{
 "cells": [
  {
   "cell_type": "code",
   "execution_count": 10,
   "id": "7593e288-34e4-4f56-8460-d077b9766e80",
   "metadata": {},
   "outputs": [
    {
     "name": "stdout",
     "output_type": "stream",
     "text": [
      "                  Sum of Squares    df  Mean Squares        F\n",
      "--------------  ----------------  ----  ------------------  -----------------\n",
      "Between Groups           2739        3  913.0               6.708850424559112\n",
      "Wihtin Groups            1633.07    12  136.08888888888887\n",
      "Total                    4372.07    15\n",
      "\n",
      "\n",
      "F test = 6.7089\n",
      "F table = 0.1144 \n",
      "You can reject the null hypothesis.\n"
     ]
    }
   ],
   "source": [
    "import numpy as np\n",
    "import scipy.stats as ss\n",
    "from tabulate import tabulate\n",
    "\n",
    "def one_way_anova(x):\n",
    "    N = []\n",
    "    k = len(x)\n",
    "    sums = []\n",
    "    sumsq = []\n",
    "    means = []\n",
    "    group_bwl = 0 #between\n",
    "    group_whl = 0 #within \n",
    "    if len(x)<3:\n",
    "        print(\"At least three different groups required\")\n",
    "    else:\n",
    "        for i in range(k):\n",
    "            N.append(len(x[i]))     # N[n1,n2,n3,...,nn]\n",
    "            sums.append(np.sum(x[i]))  \n",
    "            sumsq.append((np.sum(x[i]))**2)\n",
    "            means.append(np.mean(x[i]))\n",
    "            group_whl += np.var(x[i])*k\n",
    "        n = np.sum(N)\n",
    "    \n",
    "        totalmean = np.sum(sums) / n \n",
    "        \n",
    "            \n",
    "        for i in range(k):\n",
    "            group_bwl += N[i]*((means[i]-totalmean)**2)\n",
    "        \n",
    "        group_bw = group_bwl/(k-1)\n",
    "        group_wh = group_whl/(n-k)\n",
    "        \n",
    "        df1,df2 = k-1,n-k\n",
    "        F = group_bw / group_wh\n",
    "        t = [(group_bwl+group_whl),((k-1)+(n-k))]\n",
    "        \n",
    "        print(tabulate([['Between Groups', group_bwl,(k-1),group_bw,F], \n",
    "                        ['Wihtin Groups', group_whl,(n-k),group_wh,\"\"],\n",
    "                        ['Total',t[0],t[1],\"\",\"\"]],  \n",
    "                       headers=['','Sum of Squares', 'df','Mean Squares','F']))\n",
    "        \n",
    "        Ft = np.round(ss.f.ppf(0.05, df1, df2),4) #Ftable value\n",
    "        \n",
    "        if F>Ft:\n",
    "            print(f\"\\n\\nF test = {np.round(F,4)}\\nF table = {Ft} \\nYou can reject the null hypothesis.\")\n",
    "        else:\n",
    "            print(f\"\\n\\nF test = {np.round(F,4)}\\nF table = {Ft} \\nYou can’t reject the null hypothesis.\")\n",
    "            \n",
    "#sample             \n",
    "treat_times = [[47,32,63,54],[51,74,70],[68,46,49,53],[63,85,80,95,82]]\n",
    "one_way_anova(treat_times)\n",
    "\n",
   ]
  }
 ],
 "metadata": {
  "kernelspec": {
   "display_name": "Python 3",
   "language": "python",
   "name": "python3"
  },
  "language_info": {
   "codemirror_mode": {
    "name": "ipython",
    "version": 3
   },
   "file_extension": ".py",
   "mimetype": "text/x-python",
   "name": "python",
   "nbconvert_exporter": "python",
   "pygments_lexer": "ipython3",
   "version": "3.8.8"
  }
 },
 "nbformat": 4,
 "nbformat_minor": 5
}
